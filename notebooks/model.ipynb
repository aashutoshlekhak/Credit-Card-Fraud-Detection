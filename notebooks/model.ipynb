{
 "cells": [
  {
   "cell_type": "code",
   "execution_count": 24,
   "metadata": {},
   "outputs": [],
   "source": [
    "import numpy as np \n",
    "import pandas as pd\n",
    "import matplotlib.pyplot as plt  \n",
    "import tensorflow as tf \n",
    "import seaborn as sns\n",
    "from sklearn.preprocessing import StandardScaler, LabelEncoder\n",
    "from tensorflow import keras \n",
    "from sklearn.utils.class_weight import compute_class_weight\n"
   ]
  },
  {
   "cell_type": "code",
   "execution_count": 2,
   "metadata": {},
   "outputs": [],
   "source": [
    "train_data = pd.read_csv('../data/fraudTest.csv')\n",
    "test_data = pd.read_csv('../data/fraudTest.csv')"
   ]
  },
  {
   "cell_type": "code",
   "execution_count": 3,
   "metadata": {},
   "outputs": [],
   "source": [
    "df = pd.concat([train_data, test_data], ignore_index=True)\n"
   ]
  },
  {
   "cell_type": "code",
   "execution_count": 5,
   "metadata": {},
   "outputs": [],
   "source": [
    "df = df.drop('Unnamed: 0', axis=1)\n"
   ]
  },
  {
   "cell_type": "code",
   "execution_count": 6,
   "metadata": {},
   "outputs": [
    {
     "name": "stdout",
     "output_type": "stream",
     "text": [
      "<class 'pandas.core.frame.DataFrame'>\n",
      "RangeIndex: 1111438 entries, 0 to 1111437\n",
      "Data columns (total 22 columns):\n",
      " #   Column                 Non-Null Count    Dtype  \n",
      "---  ------                 --------------    -----  \n",
      " 0   trans_date_trans_time  1111438 non-null  object \n",
      " 1   cc_num                 1111438 non-null  int64  \n",
      " 2   merchant               1111438 non-null  object \n",
      " 3   category               1111438 non-null  object \n",
      " 4   amt                    1111438 non-null  float64\n",
      " 5   first                  1111438 non-null  object \n",
      " 6   last                   1111438 non-null  object \n",
      " 7   gender                 1111438 non-null  object \n",
      " 8   street                 1111438 non-null  object \n",
      " 9   city                   1111438 non-null  object \n",
      " 10  state                  1111438 non-null  object \n",
      " 11  zip                    1111438 non-null  int64  \n",
      " 12  lat                    1111438 non-null  float64\n",
      " 13  long                   1111438 non-null  float64\n",
      " 14  city_pop               1111438 non-null  int64  \n",
      " 15  job                    1111438 non-null  object \n",
      " 16  dob                    1111438 non-null  object \n",
      " 17  trans_num              1111438 non-null  object \n",
      " 18  unix_time              1111438 non-null  int64  \n",
      " 19  merch_lat              1111438 non-null  float64\n",
      " 20  merch_long             1111438 non-null  float64\n",
      " 21  is_fraud               1111438 non-null  int64  \n",
      "dtypes: float64(5), int64(5), object(12)\n",
      "memory usage: 186.6+ MB\n"
     ]
    }
   ],
   "source": [
    "df.info() "
   ]
  },
  {
   "cell_type": "code",
   "execution_count": 7,
   "metadata": {},
   "outputs": [],
   "source": [
    "# Drop unnecessary columns (modify as needed)\n",
    "df = df.drop(['trans_date_trans_time', 'first', 'last', 'street', 'city', 'state', 'zip', 'dob', 'trans_num'], axis=1)\n"
   ]
  },
  {
   "cell_type": "code",
   "execution_count": 9,
   "metadata": {},
   "outputs": [],
   "source": [
    "# Convert categorical variables to numerical representation\n",
    "label_encoder = LabelEncoder()\n",
    "categorical_columns = ['merchant', 'category', 'gender', 'job']\n",
    "for col in categorical_columns:\n",
    "    df[col] = label_encoder.fit_transform(df[col])\n"
   ]
  },
  {
   "cell_type": "code",
   "execution_count": 10,
   "metadata": {},
   "outputs": [],
   "source": [
    "\n",
    "# Normalize numerical features\n",
    "scaler = StandardScaler()\n",
    "numerical_columns = ['cc_num', 'amt', 'lat', 'long', 'city_pop', 'unix_time', 'merch_lat', 'merch_long']\n",
    "df[numerical_columns] = scaler.fit_transform(df[numerical_columns])"
   ]
  },
  {
   "cell_type": "code",
   "execution_count": 30,
   "metadata": {},
   "outputs": [
    {
     "data": {
      "text/html": [
       "<div>\n",
       "<style scoped>\n",
       "    .dataframe tbody tr th:only-of-type {\n",
       "        vertical-align: middle;\n",
       "    }\n",
       "\n",
       "    .dataframe tbody tr th {\n",
       "        vertical-align: top;\n",
       "    }\n",
       "\n",
       "    .dataframe thead th {\n",
       "        text-align: right;\n",
       "    }\n",
       "</style>\n",
       "<table border=\"1\" class=\"dataframe\">\n",
       "  <thead>\n",
       "    <tr style=\"text-align: right;\">\n",
       "      <th></th>\n",
       "      <th>cc_num</th>\n",
       "      <th>merchant</th>\n",
       "      <th>category</th>\n",
       "      <th>amt</th>\n",
       "      <th>gender</th>\n",
       "      <th>lat</th>\n",
       "      <th>long</th>\n",
       "      <th>city_pop</th>\n",
       "      <th>job</th>\n",
       "      <th>unix_time</th>\n",
       "      <th>merch_lat</th>\n",
       "      <th>merch_long</th>\n",
       "      <th>is_fraud</th>\n",
       "    </tr>\n",
       "  </thead>\n",
       "  <tbody>\n",
       "    <tr>\n",
       "      <th>0</th>\n",
       "      <td>-0.317252</td>\n",
       "      <td>319</td>\n",
       "      <td>10</td>\n",
       "      <td>-0.424463</td>\n",
       "      <td>1</td>\n",
       "      <td>-0.904377</td>\n",
       "      <td>0.677451</td>\n",
       "      <td>0.816521</td>\n",
       "      <td>275</td>\n",
       "      <td>-1.703871</td>\n",
       "      <td>-0.894145</td>\n",
       "      <td>0.657586</td>\n",
       "      <td>0</td>\n",
       "    </tr>\n",
       "    <tr>\n",
       "      <th>1</th>\n",
       "      <td>-0.316273</td>\n",
       "      <td>591</td>\n",
       "      <td>10</td>\n",
       "      <td>-0.252337</td>\n",
       "      <td>0</td>\n",
       "      <td>0.351182</td>\n",
       "      <td>-1.472454</td>\n",
       "      <td>-0.292685</td>\n",
       "      <td>392</td>\n",
       "      <td>-1.703869</td>\n",
       "      <td>0.178126</td>\n",
       "      <td>-1.436610</td>\n",
       "      <td>0</td>\n",
       "    </tr>\n",
       "    <tr>\n",
       "      <th>2</th>\n",
       "      <td>-0.316254</td>\n",
       "      <td>611</td>\n",
       "      <td>5</td>\n",
       "      <td>-0.179353</td>\n",
       "      <td>0</td>\n",
       "      <td>0.420768</td>\n",
       "      <td>1.216667</td>\n",
       "      <td>-0.178853</td>\n",
       "      <td>259</td>\n",
       "      <td>-1.703865</td>\n",
       "      <td>0.383257</td>\n",
       "      <td>1.167640</td>\n",
       "      <td>0</td>\n",
       "    </tr>\n",
       "    <tr>\n",
       "      <th>3</th>\n",
       "      <td>-0.316259</td>\n",
       "      <td>222</td>\n",
       "      <td>9</td>\n",
       "      <td>-0.059605</td>\n",
       "      <td>1</td>\n",
       "      <td>-1.970539</td>\n",
       "      <td>0.685934</td>\n",
       "      <td>-0.111371</td>\n",
       "      <td>407</td>\n",
       "      <td>-1.703861</td>\n",
       "      <td>-1.909485</td>\n",
       "      <td>0.680717</td>\n",
       "      <td>0</td>\n",
       "    </tr>\n",
       "    <tr>\n",
       "      <th>4</th>\n",
       "      <td>-0.316308</td>\n",
       "      <td>292</td>\n",
       "      <td>13</td>\n",
       "      <td>-0.422358</td>\n",
       "      <td>1</td>\n",
       "      <td>1.128092</td>\n",
       "      <td>0.380004</td>\n",
       "      <td>-0.289942</td>\n",
       "      <td>196</td>\n",
       "      <td>-1.703861</td>\n",
       "      <td>1.259139</td>\n",
       "      <td>0.316510</td>\n",
       "      <td>0</td>\n",
       "    </tr>\n",
       "    <tr>\n",
       "      <th>...</th>\n",
       "      <td>...</td>\n",
       "      <td>...</td>\n",
       "      <td>...</td>\n",
       "      <td>...</td>\n",
       "      <td>...</td>\n",
       "      <td>...</td>\n",
       "      <td>...</td>\n",
       "      <td>...</td>\n",
       "      <td>...</td>\n",
       "      <td>...</td>\n",
       "      <td>...</td>\n",
       "      <td>...</td>\n",
       "      <td>...</td>\n",
       "    </tr>\n",
       "    <tr>\n",
       "      <th>1111433</th>\n",
       "      <td>-0.318978</td>\n",
       "      <td>507</td>\n",
       "      <td>5</td>\n",
       "      <td>-0.163467</td>\n",
       "      <td>1</td>\n",
       "      <td>0.385244</td>\n",
       "      <td>-0.120967</td>\n",
       "      <td>-0.291963</td>\n",
       "      <td>460</td>\n",
       "      <td>1.510350</td>\n",
       "      <td>0.275527</td>\n",
       "      <td>-0.080241</td>\n",
       "      <td>0</td>\n",
       "    </tr>\n",
       "    <tr>\n",
       "      <th>1111434</th>\n",
       "      <td>-0.316286</td>\n",
       "      <td>264</td>\n",
       "      <td>7</td>\n",
       "      <td>0.270803</td>\n",
       "      <td>1</td>\n",
       "      <td>-1.877757</td>\n",
       "      <td>-0.379599</td>\n",
       "      <td>-0.198018</td>\n",
       "      <td>198</td>\n",
       "      <td>1.510351</td>\n",
       "      <td>-1.742946</td>\n",
       "      <td>-0.433644</td>\n",
       "      <td>0</td>\n",
       "    </tr>\n",
       "    <tr>\n",
       "      <th>1111435</th>\n",
       "      <td>-0.314411</td>\n",
       "      <td>496</td>\n",
       "      <td>7</td>\n",
       "      <td>0.111564</td>\n",
       "      <td>0</td>\n",
       "      <td>1.512121</td>\n",
       "      <td>-2.089408</td>\n",
       "      <td>-0.281427</td>\n",
       "      <td>294</td>\n",
       "      <td>1.510352</td>\n",
       "      <td>1.592587</td>\n",
       "      <td>-2.146912</td>\n",
       "      <td>0</td>\n",
       "    </tr>\n",
       "    <tr>\n",
       "      <th>1111436</th>\n",
       "      <td>-0.318998</td>\n",
       "      <td>75</td>\n",
       "      <td>13</td>\n",
       "      <td>-0.391735</td>\n",
       "      <td>1</td>\n",
       "      <td>1.201709</td>\n",
       "      <td>-1.910685</td>\n",
       "      <td>-0.293261</td>\n",
       "      <td>58</td>\n",
       "      <td>1.510354</td>\n",
       "      <td>1.163252</td>\n",
       "      <td>-1.955100</td>\n",
       "      <td>0</td>\n",
       "    </tr>\n",
       "    <tr>\n",
       "      <th>1111437</th>\n",
       "      <td>-0.315817</td>\n",
       "      <td>125</td>\n",
       "      <td>0</td>\n",
       "      <td>-0.199449</td>\n",
       "      <td>1</td>\n",
       "      <td>-0.568379</td>\n",
       "      <td>-0.528246</td>\n",
       "      <td>0.092477</td>\n",
       "      <td>276</td>\n",
       "      <td>1.510355</td>\n",
       "      <td>-0.457767</td>\n",
       "      <td>-0.495519</td>\n",
       "      <td>0</td>\n",
       "    </tr>\n",
       "  </tbody>\n",
       "</table>\n",
       "<p>1111438 rows × 13 columns</p>\n",
       "</div>"
      ],
      "text/plain": [
       "           cc_num  merchant  category       amt  gender       lat      long  \\\n",
       "0       -0.317252       319        10 -0.424463       1 -0.904377  0.677451   \n",
       "1       -0.316273       591        10 -0.252337       0  0.351182 -1.472454   \n",
       "2       -0.316254       611         5 -0.179353       0  0.420768  1.216667   \n",
       "3       -0.316259       222         9 -0.059605       1 -1.970539  0.685934   \n",
       "4       -0.316308       292        13 -0.422358       1  1.128092  0.380004   \n",
       "...           ...       ...       ...       ...     ...       ...       ...   \n",
       "1111433 -0.318978       507         5 -0.163467       1  0.385244 -0.120967   \n",
       "1111434 -0.316286       264         7  0.270803       1 -1.877757 -0.379599   \n",
       "1111435 -0.314411       496         7  0.111564       0  1.512121 -2.089408   \n",
       "1111436 -0.318998        75        13 -0.391735       1  1.201709 -1.910685   \n",
       "1111437 -0.315817       125         0 -0.199449       1 -0.568379 -0.528246   \n",
       "\n",
       "         city_pop  job  unix_time  merch_lat  merch_long  is_fraud  \n",
       "0        0.816521  275  -1.703871  -0.894145    0.657586         0  \n",
       "1       -0.292685  392  -1.703869   0.178126   -1.436610         0  \n",
       "2       -0.178853  259  -1.703865   0.383257    1.167640         0  \n",
       "3       -0.111371  407  -1.703861  -1.909485    0.680717         0  \n",
       "4       -0.289942  196  -1.703861   1.259139    0.316510         0  \n",
       "...           ...  ...        ...        ...         ...       ...  \n",
       "1111433 -0.291963  460   1.510350   0.275527   -0.080241         0  \n",
       "1111434 -0.198018  198   1.510351  -1.742946   -0.433644         0  \n",
       "1111435 -0.281427  294   1.510352   1.592587   -2.146912         0  \n",
       "1111436 -0.293261   58   1.510354   1.163252   -1.955100         0  \n",
       "1111437  0.092477  276   1.510355  -0.457767   -0.495519         0  \n",
       "\n",
       "[1111438 rows x 13 columns]"
      ]
     },
     "execution_count": 30,
     "metadata": {},
     "output_type": "execute_result"
    }
   ],
   "source": [
    "df"
   ]
  },
  {
   "cell_type": "code",
   "execution_count": 12,
   "metadata": {},
   "outputs": [],
   "source": [
    "def custom_train_test_val_split(df, train_ratio=0.7, test_ratio=0.15, val_ratio=0.15, seed=None):\n",
    "    \"\"\"\n",
    "    Custom function to split a DataFrame into training, testing, and validation sets.\n",
    "\n",
    "    Parameters:\n",
    "    - df: pandas DataFrame\n",
    "    - train_ratio: float, ratio of training data (default is 0.7)\n",
    "    - test_ratio: float, ratio of testing data (default is 0.15)\n",
    "    - val_ratio: float, ratio of validation data (default is 0.15)\n",
    "    - seed: int, seed for random shuffling (optional)\n",
    "\n",
    "    Returns:\n",
    "    - train_df, test_df, val_df: pandas DataFrames\n",
    "    \"\"\"\n",
    "    # Set seed for reproducibility\n",
    "    if seed is not None:\n",
    "        df = df.sample(frac=1, random_state=seed)\n",
    "    else:\n",
    "        df = df.sample(frac=1)  # Shuffle the DataFrame\n",
    "\n",
    "    # Calculate split indices\n",
    "    train_size = int(train_ratio * len(df))\n",
    "    test_size = int(test_ratio * len(df))\n",
    "\n",
    "    # Split the DataFrame\n",
    "    train_df = df[:train_size]\n",
    "    test_df = df[train_size:train_size + test_size]\n",
    "    val_df = df[train_size + test_size:]\n",
    "\n",
    "    return train_df, test_df, val_df"
   ]
  },
  {
   "cell_type": "markdown",
   "metadata": {},
   "source": []
  },
  {
   "cell_type": "code",
   "execution_count": 13,
   "metadata": {},
   "outputs": [],
   "source": [
    "train_df, test_df, val_df = custom_train_test_val_split(df , 0.7, 0.15 , 0.15 , 444)"
   ]
  },
  {
   "cell_type": "code",
   "execution_count": 17,
   "metadata": {},
   "outputs": [],
   "source": [
    "train_x = train_df.drop('is_fraud', axis=1)\n",
    "train_y = train_df['is_fraud']\n",
    "val__x = val_df.drop('is_fraud', axis=1)\n",
    "val_y = val_df['is_fraud']\n",
    "test_x = test_df.drop('is_fraud', axis=1)\n",
    "test_y = test_df['is_fraud']\n"
   ]
  },
  {
   "cell_type": "code",
   "execution_count": 25,
   "metadata": {},
   "outputs": [],
   "source": [
    "# Calculate class weights ; for the imbalanced problem \n",
    "class_weights = compute_class_weight('balanced', classes=[0, 1], y=train_y)\n",
    "class_weight_dict = dict(zip([0, 1], class_weights))"
   ]
  },
  {
   "cell_type": "code",
   "execution_count": 26,
   "metadata": {},
   "outputs": [
    {
     "data": {
      "text/plain": [
       "{0: 0.5019367641973461, 1: 129.58127914723516}"
      ]
     },
     "execution_count": 26,
     "metadata": {},
     "output_type": "execute_result"
    }
   ],
   "source": [
    "class_weight_dict"
   ]
  },
  {
   "cell_type": "code",
   "execution_count": 21,
   "metadata": {},
   "outputs": [],
   "source": [
    "model = keras.Sequential([\n",
    "    keras.layers.Dense(64, activation='relu', input_shape=(train_x.shape[1],)),\n",
    "    keras.layers.Dropout(0.5),\n",
    "    keras.layers.Dense(32, activation='relu'),\n",
    "    keras.layers.Dropout(0.5),\n",
    "    keras.layers.Dense(1, activation='sigmoid')\n",
    "])"
   ]
  },
  {
   "cell_type": "code",
   "execution_count": null,
   "metadata": {},
   "outputs": [],
   "source": [
    "# Learning rate Sceduling \n",
    "OPTIMIZER = tf.keras.optimizers.Adam(learning_rate= )"
   ]
  },
  {
   "cell_type": "code",
   "execution_count": 22,
   "metadata": {},
   "outputs": [],
   "source": [
    "model.compile(optimizer='adam', loss='binary_crossentropy', metrics=['accuracy'])\n"
   ]
  },
  {
   "cell_type": "code",
   "execution_count": 27,
   "metadata": {},
   "outputs": [
    {
     "name": "stdout",
     "output_type": "stream",
     "text": [
      "Epoch 1/10\n",
      "12157/12157 [==============================] - 39s 3ms/step - loss: 0.9656 - accuracy: 0.7770 - val_loss: 0.1025 - val_accuracy: 0.9955\n",
      "Epoch 2/10\n",
      "12157/12157 [==============================] - 42s 3ms/step - loss: 0.6492 - accuracy: 0.8382 - val_loss: 0.4304 - val_accuracy: 0.9836\n",
      "Epoch 3/10\n",
      "12157/12157 [==============================] - 40s 3ms/step - loss: 0.5483 - accuracy: 0.9355 - val_loss: 0.4475 - val_accuracy: 0.9788\n",
      "Epoch 4/10\n",
      "12157/12157 [==============================] - 40s 3ms/step - loss: 0.5145 - accuracy: 0.9389 - val_loss: 0.4607 - val_accuracy: 0.9701\n",
      "Epoch 5/10\n",
      "12157/12157 [==============================] - 39s 3ms/step - loss: 0.5037 - accuracy: 0.9454 - val_loss: 0.4120 - val_accuracy: 0.9836\n",
      "Epoch 6/10\n",
      "12157/12157 [==============================] - 41s 3ms/step - loss: 0.5012 - accuracy: 0.9501 - val_loss: 0.3945 - val_accuracy: 0.9805\n",
      "Epoch 7/10\n",
      "12157/12157 [==============================] - 44s 4ms/step - loss: 0.4930 - accuracy: 0.9490 - val_loss: 0.3567 - val_accuracy: 0.9834\n",
      "Epoch 8/10\n",
      "12157/12157 [==============================] - 39s 3ms/step - loss: 0.4951 - accuracy: 0.9496 - val_loss: 0.3869 - val_accuracy: 0.9757\n",
      "Epoch 9/10\n",
      "12157/12157 [==============================] - 42s 3ms/step - loss: 0.5030 - accuracy: 0.9535 - val_loss: 0.4040 - val_accuracy: 0.9727\n",
      "Epoch 10/10\n",
      "12157/12157 [==============================] - 36s 3ms/step - loss: 0.4881 - accuracy: 0.9551 - val_loss: 0.4310 - val_accuracy: 0.9721\n"
     ]
    },
    {
     "data": {
      "text/plain": [
       "<keras.src.callbacks.History at 0x193204db8b0>"
      ]
     },
     "execution_count": 27,
     "metadata": {},
     "output_type": "execute_result"
    }
   ],
   "source": [
    "model.fit(train_x, train_y, epochs=10, batch_size=64, validation_data=(val__x, val_y), class_weight=class_weight_dict)\n"
   ]
  },
  {
   "cell_type": "code",
   "execution_count": 28,
   "metadata": {},
   "outputs": [
    {
     "data": {
      "image/png": "[encoded data removed]",
      "text/plain": [
       "<Figure size 1200x400 with 2 Axes>"
      ]
     },
     "metadata": {},
     "output_type": "display_data"
    }
   ],
   "source": [
    "\n",
    "# Access the training history\n",
    "history = model.history\n",
    "\n",
    "# Plot training history\n",
    "plt.figure(figsize=(12, 4))\n",
    "\n",
    "# Plot training & validation loss values\n",
    "plt.subplot(1, 2, 1)\n",
    "plt.plot(history.history['loss'])\n",
    "plt.plot(history.history['val_loss'])\n",
    "plt.title('Model Loss')\n",
    "plt.xlabel('Epoch')\n",
    "plt.ylabel('Loss')\n",
    "plt.legend(['Train', 'Validation'], loc='upper right')\n",
    "\n",
    "# Plot training & validation accuracy values\n",
    "plt.subplot(1, 2, 2)\n",
    "plt.plot(history.history['accuracy'])\n",
    "plt.plot(history.history['val_accuracy'])\n",
    "plt.title('Model Accuracy')\n",
    "plt.xlabel('Epoch')\n",
    "plt.ylabel('Accuracy')\n",
    "plt.legend(['Train', 'Validation'], loc='lower right')\n",
    "\n",
    "plt.tight_layout()\n",
    "plt.show()"
   ]
  },
  {
   "cell_type": "code",
   "execution_count": 29,
   "metadata": {},
   "outputs": [
    {
     "name": "stderr",
     "output_type": "stream",
     "text": [
      "c:\\Users\\sapko\\anaconda3\\envs\\cfdp\\lib\\site-packages\\keras\\src\\engine\\training.py:3079: UserWarning: You are saving your model as an HDF5 file via `model.save()`. This file format is considered legacy. We recommend using instead the native Keras format, e.g. `model.save('my_model.keras')`.\n",
      "  saving_api.save_model(\n"
     ]
    }
   ],
   "source": [
    "model.save(\"../model/model.h5\")"
   ]
  },
  {
   "cell_type": "code",
   "execution_count": null,
   "metadata": {},
   "outputs": [],
   "source": []
  }
 ],
 "metadata": {
  "kernelspec": {
   "display_name": "cfdp",
   "language": "python",
   "name": "python3"
  },
  "language_info": {
   "codemirror_mode": {
    "name": "ipython",
    "version": 3
   },
   "file_extension": ".py",
   "mimetype": "text/x-python",
   "name": "python",
   "nbconvert_exporter": "python",
   "pygments_lexer": "ipython3",
   "version": "3.9.18"
  }
 },
 "nbformat": 4,
 "nbformat_minor": 2
}
