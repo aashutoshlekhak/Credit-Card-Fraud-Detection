{
 "cells": [
  {
   "cell_type": "code",
   "execution_count": 1,
   "metadata": {},
   "outputs": [],
   "source": [
    "import numpy as np \n",
    "import pandas as pd\n",
    "import matplotlib.pyplot as plt  \n",
    "from sklearn.ensemble import RandomForestClassifier \n",
    "from sklearn.preprocessing import OneHotEncoder , StandardScaler\n",
    "import seaborn as sns \n",
    "from sklearn.utils.class_weight import compute_class_weight\n",
    "from imblearn.under_sampling import RandomUnderSampler\n",
    "from sklearn.metrics import classification_report \n",
    "import joblib\n",
    "from sklearn.compose import ColumnTransformer\n",
    "from sklearn.pipeline import Pipeline\n",
    "import pickle \n",
    "\n",
    "\n"
   ]
  },
  {
   "cell_type": "code",
   "execution_count": 2,
   "metadata": {},
   "outputs": [],
   "source": [
    "train_data = pd.read_csv('../data/fraudTest.csv')\n",
    "test_data = pd.read_csv('../data/fraudTest.csv')"
   ]
  },
  {
   "cell_type": "code",
   "execution_count": 3,
   "metadata": {},
   "outputs": [],
   "source": [
    "df = pd.concat([train_data, test_data], ignore_index=True)\n"
   ]
  },
  {
   "cell_type": "code",
   "execution_count": 4,
   "metadata": {},
   "outputs": [
    {
     "data": {
      "text/html": [
       "<div>\n",
       "<style scoped>\n",
       "    .dataframe tbody tr th:only-of-type {\n",
       "        vertical-align: middle;\n",
       "    }\n",
       "\n",
       "    .dataframe tbody tr th {\n",
       "        vertical-align: top;\n",
       "    }\n",
       "\n",
       "    .dataframe thead th {\n",
       "        text-align: right;\n",
       "    }\n",
       "</style>\n",
       "<table border=\"1\" class=\"dataframe\">\n",
       "  <thead>\n",
       "    <tr style=\"text-align: right;\">\n",
       "      <th></th>\n",
       "      <th>Unnamed: 0</th>\n",
       "      <th>trans_date_trans_time</th>\n",
       "      <th>cc_num</th>\n",
       "      <th>merchant</th>\n",
       "      <th>category</th>\n",
       "      <th>amt</th>\n",
       "      <th>first</th>\n",
       "      <th>last</th>\n",
       "      <th>gender</th>\n",
       "      <th>street</th>\n",
       "      <th>...</th>\n",
       "      <th>lat</th>\n",
       "      <th>long</th>\n",
       "      <th>city_pop</th>\n",
       "      <th>job</th>\n",
       "      <th>dob</th>\n",
       "      <th>trans_num</th>\n",
       "      <th>unix_time</th>\n",
       "      <th>merch_lat</th>\n",
       "      <th>merch_long</th>\n",
       "      <th>is_fraud</th>\n",
       "    </tr>\n",
       "  </thead>\n",
       "  <tbody>\n",
       "    <tr>\n",
       "      <th>0</th>\n",
       "      <td>0</td>\n",
       "      <td>2020-06-21 12:14:25</td>\n",
       "      <td>2291163933867244</td>\n",
       "      <td>fraud_Kirlin and Sons</td>\n",
       "      <td>personal_care</td>\n",
       "      <td>2.86</td>\n",
       "      <td>Jeff</td>\n",
       "      <td>Elliott</td>\n",
       "      <td>M</td>\n",
       "      <td>351 Darlene Green</td>\n",
       "      <td>...</td>\n",
       "      <td>33.9659</td>\n",
       "      <td>-80.9355</td>\n",
       "      <td>333497</td>\n",
       "      <td>Mechanical engineer</td>\n",
       "      <td>1968-03-19</td>\n",
       "      <td>2da90c7d74bd46a0caf3777415b3ebd3</td>\n",
       "      <td>1371816865</td>\n",
       "      <td>33.986391</td>\n",
       "      <td>-81.200714</td>\n",
       "      <td>0</td>\n",
       "    </tr>\n",
       "    <tr>\n",
       "      <th>1</th>\n",
       "      <td>1</td>\n",
       "      <td>2020-06-21 12:14:33</td>\n",
       "      <td>3573030041201292</td>\n",
       "      <td>fraud_Sporer-Keebler</td>\n",
       "      <td>personal_care</td>\n",
       "      <td>29.84</td>\n",
       "      <td>Joanne</td>\n",
       "      <td>Williams</td>\n",
       "      <td>F</td>\n",
       "      <td>3638 Marsh Union</td>\n",
       "      <td>...</td>\n",
       "      <td>40.3207</td>\n",
       "      <td>-110.4360</td>\n",
       "      <td>302</td>\n",
       "      <td>Sales professional, IT</td>\n",
       "      <td>1990-01-17</td>\n",
       "      <td>324cc204407e99f51b0d6ca0055005e7</td>\n",
       "      <td>1371816873</td>\n",
       "      <td>39.450498</td>\n",
       "      <td>-109.960431</td>\n",
       "      <td>0</td>\n",
       "    </tr>\n",
       "    <tr>\n",
       "      <th>2</th>\n",
       "      <td>2</td>\n",
       "      <td>2020-06-21 12:14:53</td>\n",
       "      <td>3598215285024754</td>\n",
       "      <td>fraud_Swaniawski, Nitzsche and Welch</td>\n",
       "      <td>health_fitness</td>\n",
       "      <td>41.28</td>\n",
       "      <td>Ashley</td>\n",
       "      <td>Lopez</td>\n",
       "      <td>F</td>\n",
       "      <td>9333 Valentine Point</td>\n",
       "      <td>...</td>\n",
       "      <td>40.6729</td>\n",
       "      <td>-73.5365</td>\n",
       "      <td>34496</td>\n",
       "      <td>Librarian, public</td>\n",
       "      <td>1970-10-21</td>\n",
       "      <td>c81755dbbbea9d5c77f094348a7579be</td>\n",
       "      <td>1371816893</td>\n",
       "      <td>40.495810</td>\n",
       "      <td>-74.196111</td>\n",
       "      <td>0</td>\n",
       "    </tr>\n",
       "    <tr>\n",
       "      <th>3</th>\n",
       "      <td>3</td>\n",
       "      <td>2020-06-21 12:15:15</td>\n",
       "      <td>3591919803438423</td>\n",
       "      <td>fraud_Haley Group</td>\n",
       "      <td>misc_pos</td>\n",
       "      <td>60.05</td>\n",
       "      <td>Brian</td>\n",
       "      <td>Williams</td>\n",
       "      <td>M</td>\n",
       "      <td>32941 Krystal Mill Apt. 552</td>\n",
       "      <td>...</td>\n",
       "      <td>28.5697</td>\n",
       "      <td>-80.8191</td>\n",
       "      <td>54767</td>\n",
       "      <td>Set designer</td>\n",
       "      <td>1987-07-25</td>\n",
       "      <td>2159175b9efe66dc301f149d3d5abf8c</td>\n",
       "      <td>1371816915</td>\n",
       "      <td>28.812398</td>\n",
       "      <td>-80.883061</td>\n",
       "      <td>0</td>\n",
       "    </tr>\n",
       "    <tr>\n",
       "      <th>4</th>\n",
       "      <td>4</td>\n",
       "      <td>2020-06-21 12:15:17</td>\n",
       "      <td>3526826139003047</td>\n",
       "      <td>fraud_Johnston-Casper</td>\n",
       "      <td>travel</td>\n",
       "      <td>3.19</td>\n",
       "      <td>Nathan</td>\n",
       "      <td>Massey</td>\n",
       "      <td>M</td>\n",
       "      <td>5783 Evan Roads Apt. 465</td>\n",
       "      <td>...</td>\n",
       "      <td>44.2529</td>\n",
       "      <td>-85.0170</td>\n",
       "      <td>1126</td>\n",
       "      <td>Furniture designer</td>\n",
       "      <td>1955-07-06</td>\n",
       "      <td>57ff021bd3f328f8738bb535c302a31b</td>\n",
       "      <td>1371816917</td>\n",
       "      <td>44.959148</td>\n",
       "      <td>-85.884734</td>\n",
       "      <td>0</td>\n",
       "    </tr>\n",
       "  </tbody>\n",
       "</table>\n",
       "<p>5 rows × 23 columns</p>\n",
       "</div>"
      ],
      "text/plain": [
       "   Unnamed: 0 trans_date_trans_time            cc_num  \\\n",
       "0           0   2020-06-21 12:14:25  2291163933867244   \n",
       "1           1   2020-06-21 12:14:33  3573030041201292   \n",
       "2           2   2020-06-21 12:14:53  3598215285024754   \n",
       "3           3   2020-06-21 12:15:15  3591919803438423   \n",
       "4           4   2020-06-21 12:15:17  3526826139003047   \n",
       "\n",
       "                               merchant        category    amt   first  \\\n",
       "0                 fraud_Kirlin and Sons   personal_care   2.86    Jeff   \n",
       "1                  fraud_Sporer-Keebler   personal_care  29.84  Joanne   \n",
       "2  fraud_Swaniawski, Nitzsche and Welch  health_fitness  41.28  Ashley   \n",
       "3                     fraud_Haley Group        misc_pos  60.05   Brian   \n",
       "4                 fraud_Johnston-Casper          travel   3.19  Nathan   \n",
       "\n",
       "       last gender                       street  ...      lat      long  \\\n",
       "0   Elliott      M            351 Darlene Green  ...  33.9659  -80.9355   \n",
       "1  Williams      F             3638 Marsh Union  ...  40.3207 -110.4360   \n",
       "2     Lopez      F         9333 Valentine Point  ...  40.6729  -73.5365   \n",
       "3  Williams      M  32941 Krystal Mill Apt. 552  ...  28.5697  -80.8191   \n",
       "4    Massey      M     5783 Evan Roads Apt. 465  ...  44.2529  -85.0170   \n",
       "\n",
       "   city_pop                     job         dob  \\\n",
       "0    333497     Mechanical engineer  1968-03-19   \n",
       "1       302  Sales professional, IT  1990-01-17   \n",
       "2     34496       Librarian, public  1970-10-21   \n",
       "3     54767            Set designer  1987-07-25   \n",
       "4      1126      Furniture designer  1955-07-06   \n",
       "\n",
       "                          trans_num   unix_time  merch_lat  merch_long  \\\n",
       "0  2da90c7d74bd46a0caf3777415b3ebd3  1371816865  33.986391  -81.200714   \n",
       "1  324cc204407e99f51b0d6ca0055005e7  1371816873  39.450498 -109.960431   \n",
       "2  c81755dbbbea9d5c77f094348a7579be  1371816893  40.495810  -74.196111   \n",
       "3  2159175b9efe66dc301f149d3d5abf8c  1371816915  28.812398  -80.883061   \n",
       "4  57ff021bd3f328f8738bb535c302a31b  1371816917  44.959148  -85.884734   \n",
       "\n",
       "   is_fraud  \n",
       "0         0  \n",
       "1         0  \n",
       "2         0  \n",
       "3         0  \n",
       "4         0  \n",
       "\n",
       "[5 rows x 23 columns]"
      ]
     },
     "execution_count": 4,
     "metadata": {},
     "output_type": "execute_result"
    }
   ],
   "source": [
    "df.head() "
   ]
  },
  {
   "cell_type": "code",
   "execution_count": 5,
   "metadata": {},
   "outputs": [
    {
     "data": {
      "text/plain": [
       "cc_num\n",
       "6538441737335434       2948\n",
       "4586810168620942       2932\n",
       "4745996322265          2924\n",
       "4587657402165341815    2916\n",
       "2242542703101233       2856\n",
       "                       ... \n",
       "4087542780207162         18\n",
       "4883407061576            18\n",
       "3540416671210051         16\n",
       "4352307151555405069      14\n",
       "4295296907373            12\n",
       "Name: count, Length: 924, dtype: int64"
      ]
     },
     "execution_count": 5,
     "metadata": {},
     "output_type": "execute_result"
    }
   ],
   "source": [
    "df.value_counts('cc_num')"
   ]
  },
  {
   "cell_type": "code",
   "execution_count": 6,
   "metadata": {},
   "outputs": [
    {
     "data": {
      "text/plain": [
       "cc_num\n",
       "60416207185            {42.528679, 42.806278000000006, 42.128823, 43....\n",
       "60422928733            {33.256653, 32.990672, 34.235802, 34.035694, 3...\n",
       "60423098130            {36.322681, 37.755375, 37.908293, 36.414783, 3...\n",
       "60427851591            {35.905466, 34.792988, 34.945139000000005, 36....\n",
       "60487002085            {33.167632, 33.209013, 32.139223, 32.765078, 3...\n",
       "                                             ...                        \n",
       "4958589671582726883    {38.055398, 37.870199, 39.56458, 38.708543, 37...\n",
       "4973530368125489546    {34.974994, 35.556492, 35.212292, 35.391866, 3...\n",
       "4980323467523543940    {44.95802, 44.852787, 44.66101, 43.240536, 44....\n",
       "4989847570577635369    {34.887458, 33.346398, 33.671277, 34.696671, 3...\n",
       "4992346398065154184    {40.263647, 40.193536, 42.003643, 40.840735, 4...\n",
       "Name: merch_lat, Length: 924, dtype: object"
      ]
     },
     "execution_count": 6,
     "metadata": {},
     "output_type": "execute_result"
    }
   ],
   "source": [
    "df.groupby('cc_num')['merch_lat'].apply(set)"
   ]
  },
  {
   "cell_type": "code",
   "execution_count": 7,
   "metadata": {},
   "outputs": [
    {
     "name": "stdout",
     "output_type": "stream",
     "text": [
      "<class 'pandas.core.frame.DataFrame'>\n",
      "RangeIndex: 1111438 entries, 0 to 1111437\n",
      "Data columns (total 23 columns):\n",
      " #   Column                 Non-Null Count    Dtype  \n",
      "---  ------                 --------------    -----  \n",
      " 0   Unnamed: 0             1111438 non-null  int64  \n",
      " 1   trans_date_trans_time  1111438 non-null  object \n",
      " 2   cc_num                 1111438 non-null  int64  \n",
      " 3   merchant               1111438 non-null  object \n",
      " 4   category               1111438 non-null  object \n",
      " 5   amt                    1111438 non-null  float64\n",
      " 6   first                  1111438 non-null  object \n",
      " 7   last                   1111438 non-null  object \n",
      " 8   gender                 1111438 non-null  object \n",
      " 9   street                 1111438 non-null  object \n",
      " 10  city                   1111438 non-null  object \n",
      " 11  state                  1111438 non-null  object \n",
      " 12  zip                    1111438 non-null  int64  \n",
      " 13  lat                    1111438 non-null  float64\n",
      " 14  long                   1111438 non-null  float64\n",
      " 15  city_pop               1111438 non-null  int64  \n",
      " 16  job                    1111438 non-null  object \n",
      " 17  dob                    1111438 non-null  object \n",
      " 18  trans_num              1111438 non-null  object \n",
      " 19  unix_time              1111438 non-null  int64  \n",
      " 20  merch_lat              1111438 non-null  float64\n",
      " 21  merch_long             1111438 non-null  float64\n",
      " 22  is_fraud               1111438 non-null  int64  \n",
      "dtypes: float64(5), int64(6), object(12)\n",
      "memory usage: 195.0+ MB\n"
     ]
    }
   ],
   "source": [
    "df.info() "
   ]
  },
  {
   "cell_type": "code",
   "execution_count": 8,
   "metadata": {},
   "outputs": [],
   "source": [
    "cols_to_drop =  ['Unnamed: 0','trans_date_trans_time','job','street','category', 'city','trans_num', 'dob' ,'city_pop', 'unix_time']"
   ]
  },
  {
   "cell_type": "code",
   "execution_count": 9,
   "metadata": {},
   "outputs": [],
   "source": [
    "df.drop(cols_to_drop , axis=1,  inplace=True)\n"
   ]
  },
  {
   "cell_type": "code",
   "execution_count": 10,
   "metadata": {},
   "outputs": [
    {
     "name": "stdout",
     "output_type": "stream",
     "text": [
      "<class 'pandas.core.frame.DataFrame'>\n",
      "RangeIndex: 1111438 entries, 0 to 1111437\n",
      "Data columns (total 13 columns):\n",
      " #   Column      Non-Null Count    Dtype  \n",
      "---  ------      --------------    -----  \n",
      " 0   cc_num      1111438 non-null  int64  \n",
      " 1   merchant    1111438 non-null  object \n",
      " 2   amt         1111438 non-null  float64\n",
      " 3   first       1111438 non-null  object \n",
      " 4   last        1111438 non-null  object \n",
      " 5   gender      1111438 non-null  object \n",
      " 6   state       1111438 non-null  object \n",
      " 7   zip         1111438 non-null  int64  \n",
      " 8   lat         1111438 non-null  float64\n",
      " 9   long        1111438 non-null  float64\n",
      " 10  merch_lat   1111438 non-null  float64\n",
      " 11  merch_long  1111438 non-null  float64\n",
      " 12  is_fraud    1111438 non-null  int64  \n",
      "dtypes: float64(5), int64(3), object(5)\n",
      "memory usage: 110.2+ MB\n"
     ]
    }
   ],
   "source": [
    "df.info() "
   ]
  },
  {
   "cell_type": "code",
   "execution_count": 11,
   "metadata": {},
   "outputs": [],
   "source": [
    "X = df.drop('is_fraud', axis=1)\n",
    "y = df['is_fraud']"
   ]
  },
  {
   "cell_type": "code",
   "execution_count": 12,
   "metadata": {},
   "outputs": [],
   "source": [
    "df[df['is_fraud'] ==1][:20].to_csv(\"fraud.csv\")"
   ]
  },
  {
   "cell_type": "code",
   "execution_count": 13,
   "metadata": {},
   "outputs": [
    {
     "name": "stdout",
     "output_type": "stream",
     "text": [
      "<class 'pandas.core.frame.DataFrame'>\n",
      "RangeIndex: 1111438 entries, 0 to 1111437\n",
      "Data columns (total 13 columns):\n",
      " #   Column      Non-Null Count    Dtype  \n",
      "---  ------      --------------    -----  \n",
      " 0   cc_num      1111438 non-null  int64  \n",
      " 1   merchant    1111438 non-null  object \n",
      " 2   amt         1111438 non-null  float64\n",
      " 3   first       1111438 non-null  object \n",
      " 4   last        1111438 non-null  object \n",
      " 5   gender      1111438 non-null  object \n",
      " 6   state       1111438 non-null  object \n",
      " 7   zip         1111438 non-null  int64  \n",
      " 8   lat         1111438 non-null  float64\n",
      " 9   long        1111438 non-null  float64\n",
      " 10  merch_lat   1111438 non-null  float64\n",
      " 11  merch_long  1111438 non-null  float64\n",
      " 12  is_fraud    1111438 non-null  int64  \n",
      "dtypes: float64(5), int64(3), object(5)\n",
      "memory usage: 110.2+ MB\n"
     ]
    }
   ],
   "source": [
    "df.info() "
   ]
  },
  {
   "cell_type": "code",
   "execution_count": 14,
   "metadata": {},
   "outputs": [],
   "source": [
    "df['cc_num'] = df['cc_num'].astype(str)\n",
    "df['zip'] = df['zip'].astype(str)\n"
   ]
  },
  {
   "cell_type": "code",
   "execution_count": 15,
   "metadata": {},
   "outputs": [
    {
     "name": "stdout",
     "output_type": "stream",
     "text": [
      "<class 'pandas.core.frame.DataFrame'>\n",
      "RangeIndex: 1111438 entries, 0 to 1111437\n",
      "Data columns (total 13 columns):\n",
      " #   Column      Non-Null Count    Dtype  \n",
      "---  ------      --------------    -----  \n",
      " 0   cc_num      1111438 non-null  object \n",
      " 1   merchant    1111438 non-null  object \n",
      " 2   amt         1111438 non-null  float64\n",
      " 3   first       1111438 non-null  object \n",
      " 4   last        1111438 non-null  object \n",
      " 5   gender      1111438 non-null  object \n",
      " 6   state       1111438 non-null  object \n",
      " 7   zip         1111438 non-null  object \n",
      " 8   lat         1111438 non-null  float64\n",
      " 9   long        1111438 non-null  float64\n",
      " 10  merch_lat   1111438 non-null  float64\n",
      " 11  merch_long  1111438 non-null  float64\n",
      " 12  is_fraud    1111438 non-null  int64  \n",
      "dtypes: float64(5), int64(1), object(7)\n",
      "memory usage: 110.2+ MB\n"
     ]
    }
   ],
   "source": [
    "df.info() "
   ]
  },
  {
   "cell_type": "code",
   "execution_count": 16,
   "metadata": {},
   "outputs": [],
   "source": [
    "categorical_columns = ['cc_num', 'first', 'last','merchant','zip', 'gender', 'state']\n"
   ]
  },
  {
   "cell_type": "code",
   "execution_count": 17,
   "metadata": {},
   "outputs": [],
   "source": [
    "# df[categorical_columns] = df[categorical_columns].apply(lambda col: label_encoder.fit_transform(col))\n",
    "# # Normalize numerical variables using StandardScaler\n",
    "# numerical_columns = ['amt', 'zip', 'lat', 'long', 'merch_lat', 'merch_long'] \n",
    "# df[numerical_columns] = scaler.fit_transform(df[numerical_columns])\n"
   ]
  },
  {
   "cell_type": "code",
   "execution_count": 18,
   "metadata": {},
   "outputs": [
    {
     "name": "stdout",
     "output_type": "stream",
     "text": [
      "<class 'pandas.core.frame.DataFrame'>\n",
      "RangeIndex: 1111438 entries, 0 to 1111437\n",
      "Data columns (total 13 columns):\n",
      " #   Column      Non-Null Count    Dtype  \n",
      "---  ------      --------------    -----  \n",
      " 0   cc_num      1111438 non-null  object \n",
      " 1   merchant    1111438 non-null  object \n",
      " 2   amt         1111438 non-null  float64\n",
      " 3   first       1111438 non-null  object \n",
      " 4   last        1111438 non-null  object \n",
      " 5   gender      1111438 non-null  object \n",
      " 6   state       1111438 non-null  object \n",
      " 7   zip         1111438 non-null  object \n",
      " 8   lat         1111438 non-null  float64\n",
      " 9   long        1111438 non-null  float64\n",
      " 10  merch_lat   1111438 non-null  float64\n",
      " 11  merch_long  1111438 non-null  float64\n",
      " 12  is_fraud    1111438 non-null  int64  \n",
      "dtypes: float64(5), int64(1), object(7)\n",
      "memory usage: 110.2+ MB\n"
     ]
    }
   ],
   "source": [
    "df.info() "
   ]
  },
  {
   "cell_type": "code",
   "execution_count": 19,
   "metadata": {},
   "outputs": [],
   "source": [
    "X = df.drop('is_fraud', axis = 1 )\n",
    "y = df['is_fraud']"
   ]
  },
  {
   "cell_type": "code",
   "execution_count": 20,
   "metadata": {},
   "outputs": [],
   "source": [
    "def custom_train_test_split(X, y, test_size=0.2, random_state=None):\n",
    "    \"\"\"\n",
    "    Manually split the dataset into training and testing sets.\n",
    "\n",
    "    Parameters:\n",
    "    - X: Features (independent variables)\n",
    "    - y: Target variable (dependent variable)\n",
    "    - test_size: Proportion of the dataset to include in the test split (default is 0.2)\n",
    "    - random_state: Seed for random number generation, ensures reproducibility (default is None)\n",
    "\n",
    "    Returns:\n",
    "    - x_train, x_test, y_train, y_test\n",
    "    \"\"\"\n",
    "    if random_state is not None:\n",
    "        np.random.seed(random_state)\n",
    "\n",
    "    # Shuffle indices\n",
    "    indices = np.arange(len(X))\n",
    "    np.random.shuffle(indices)\n",
    "\n",
    "    # Calculate the split index\n",
    "    split_index = int((1 - test_size) * len(X))\n",
    "\n",
    "    # Split the data\n",
    "    x_train, x_test = X.iloc[indices[:split_index]], X.iloc[indices[split_index:]]\n",
    "    y_train, y_test = y.iloc[indices[:split_index]], y.iloc[indices[split_index:]]\n",
    "\n",
    "    return x_train, x_test, y_train, y_test"
   ]
  },
  {
   "cell_type": "code",
   "execution_count": 21,
   "metadata": {},
   "outputs": [],
   "source": [
    "X_train , X_test , y_train, y_test = custom_train_test_split(X,y , test_size=0.3, random_state=404)"
   ]
  },
  {
   "cell_type": "code",
   "execution_count": 22,
   "metadata": {},
   "outputs": [
    {
     "data": {
      "text/plain": [
       "is_fraud\n",
       "0    774983\n",
       "1      3023\n",
       "Name: count, dtype: int64"
      ]
     },
     "execution_count": 22,
     "metadata": {},
     "output_type": "execute_result"
    }
   ],
   "source": [
    "y_train.value_counts()"
   ]
  },
  {
   "cell_type": "code",
   "execution_count": 23,
   "metadata": {},
   "outputs": [
    {
     "data": {
      "text/html": [
       "<div>\n",
       "<style scoped>\n",
       "    .dataframe tbody tr th:only-of-type {\n",
       "        vertical-align: middle;\n",
       "    }\n",
       "\n",
       "    .dataframe tbody tr th {\n",
       "        vertical-align: top;\n",
       "    }\n",
       "\n",
       "    .dataframe thead th {\n",
       "        text-align: right;\n",
       "    }\n",
       "</style>\n",
       "<table border=\"1\" class=\"dataframe\">\n",
       "  <thead>\n",
       "    <tr style=\"text-align: right;\">\n",
       "      <th></th>\n",
       "      <th>cc_num</th>\n",
       "      <th>merchant</th>\n",
       "      <th>amt</th>\n",
       "      <th>first</th>\n",
       "      <th>last</th>\n",
       "      <th>gender</th>\n",
       "      <th>state</th>\n",
       "      <th>zip</th>\n",
       "      <th>lat</th>\n",
       "      <th>long</th>\n",
       "      <th>merch_lat</th>\n",
       "      <th>merch_long</th>\n",
       "    </tr>\n",
       "  </thead>\n",
       "  <tbody>\n",
       "    <tr>\n",
       "      <th>119768</th>\n",
       "      <td>30235268718158</td>\n",
       "      <td>fraud_Macejkovic-Lesch</td>\n",
       "      <td>6.06</td>\n",
       "      <td>Kenneth</td>\n",
       "      <td>Doyle</td>\n",
       "      <td>M</td>\n",
       "      <td>NY</td>\n",
       "      <td>10604</td>\n",
       "      <td>41.0592</td>\n",
       "      <td>-73.7395</td>\n",
       "      <td>40.077445</td>\n",
       "      <td>-74.119713</td>\n",
       "    </tr>\n",
       "    <tr>\n",
       "      <th>395460</th>\n",
       "      <td>3545109339866548</td>\n",
       "      <td>fraud_Schmeler Inc</td>\n",
       "      <td>11.68</td>\n",
       "      <td>Keith</td>\n",
       "      <td>Sanders</td>\n",
       "      <td>M</td>\n",
       "      <td>MS</td>\n",
       "      <td>38761</td>\n",
       "      <td>33.4783</td>\n",
       "      <td>-90.5142</td>\n",
       "      <td>33.233483</td>\n",
       "      <td>-89.723344</td>\n",
       "    </tr>\n",
       "    <tr>\n",
       "      <th>256471</th>\n",
       "      <td>180084695172649</td>\n",
       "      <td>fraud_O'Reilly, Mohr and Purdy</td>\n",
       "      <td>29.92</td>\n",
       "      <td>Holly</td>\n",
       "      <td>Mann</td>\n",
       "      <td>F</td>\n",
       "      <td>IL</td>\n",
       "      <td>62075</td>\n",
       "      <td>39.3036</td>\n",
       "      <td>-89.2853</td>\n",
       "      <td>39.941428</td>\n",
       "      <td>-89.703270</td>\n",
       "    </tr>\n",
       "    <tr>\n",
       "      <th>382575</th>\n",
       "      <td>4926376199189801</td>\n",
       "      <td>fraud_Barton Inc</td>\n",
       "      <td>207.33</td>\n",
       "      <td>Claire</td>\n",
       "      <td>Davis</td>\n",
       "      <td>F</td>\n",
       "      <td>AR</td>\n",
       "      <td>72529</td>\n",
       "      <td>36.3011</td>\n",
       "      <td>-91.5281</td>\n",
       "      <td>36.320203</td>\n",
       "      <td>-92.043304</td>\n",
       "    </tr>\n",
       "    <tr>\n",
       "      <th>567693</th>\n",
       "      <td>30561214688470</td>\n",
       "      <td>fraud_Doyle Ltd</td>\n",
       "      <td>109.20</td>\n",
       "      <td>Gina</td>\n",
       "      <td>Morrison</td>\n",
       "      <td>F</td>\n",
       "      <td>PA</td>\n",
       "      <td>18103</td>\n",
       "      <td>40.5891</td>\n",
       "      <td>-75.4645</td>\n",
       "      <td>40.125612</td>\n",
       "      <td>-75.507219</td>\n",
       "    </tr>\n",
       "    <tr>\n",
       "      <th>...</th>\n",
       "      <td>...</td>\n",
       "      <td>...</td>\n",
       "      <td>...</td>\n",
       "      <td>...</td>\n",
       "      <td>...</td>\n",
       "      <td>...</td>\n",
       "      <td>...</td>\n",
       "      <td>...</td>\n",
       "      <td>...</td>\n",
       "      <td>...</td>\n",
       "      <td>...</td>\n",
       "      <td>...</td>\n",
       "    </tr>\n",
       "    <tr>\n",
       "      <th>336734</th>\n",
       "      <td>4302475216404898</td>\n",
       "      <td>fraud_Abshire PLC</td>\n",
       "      <td>7.24</td>\n",
       "      <td>Daniel</td>\n",
       "      <td>Cain</td>\n",
       "      <td>M</td>\n",
       "      <td>IA</td>\n",
       "      <td>50421</td>\n",
       "      <td>42.8511</td>\n",
       "      <td>-93.6200</td>\n",
       "      <td>42.724485</td>\n",
       "      <td>-93.180677</td>\n",
       "    </tr>\n",
       "    <tr>\n",
       "      <th>100415</th>\n",
       "      <td>4048508450704760</td>\n",
       "      <td>fraud_Haley Group</td>\n",
       "      <td>179.69</td>\n",
       "      <td>Cheryl</td>\n",
       "      <td>Melton</td>\n",
       "      <td>F</td>\n",
       "      <td>NE</td>\n",
       "      <td>68638</td>\n",
       "      <td>41.3660</td>\n",
       "      <td>-98.0054</td>\n",
       "      <td>41.084506</td>\n",
       "      <td>-97.287254</td>\n",
       "    </tr>\n",
       "    <tr>\n",
       "      <th>603801</th>\n",
       "      <td>3533012926413100</td>\n",
       "      <td>fraud_Botsford Ltd</td>\n",
       "      <td>4.79</td>\n",
       "      <td>Megan</td>\n",
       "      <td>Bernard</td>\n",
       "      <td>F</td>\n",
       "      <td>NY</td>\n",
       "      <td>13304</td>\n",
       "      <td>43.2237</td>\n",
       "      <td>-75.1612</td>\n",
       "      <td>43.132154</td>\n",
       "      <td>-74.272091</td>\n",
       "    </tr>\n",
       "    <tr>\n",
       "      <th>598910</th>\n",
       "      <td>342952484382519</td>\n",
       "      <td>fraud_Cummings LLC</td>\n",
       "      <td>69.58</td>\n",
       "      <td>Kayla</td>\n",
       "      <td>Jones</td>\n",
       "      <td>F</td>\n",
       "      <td>CT</td>\n",
       "      <td>6024</td>\n",
       "      <td>42.0158</td>\n",
       "      <td>-73.2913</td>\n",
       "      <td>42.503521</td>\n",
       "      <td>-73.580085</td>\n",
       "    </tr>\n",
       "    <tr>\n",
       "      <th>514961</th>\n",
       "      <td>6526777409109795</td>\n",
       "      <td>fraud_White and Sons</td>\n",
       "      <td>67.27</td>\n",
       "      <td>Michael</td>\n",
       "      <td>Garner</td>\n",
       "      <td>M</td>\n",
       "      <td>NY</td>\n",
       "      <td>11419</td>\n",
       "      <td>40.6868</td>\n",
       "      <td>-73.8230</td>\n",
       "      <td>40.529249</td>\n",
       "      <td>-74.672252</td>\n",
       "    </tr>\n",
       "  </tbody>\n",
       "</table>\n",
       "<p>778006 rows × 12 columns</p>\n",
       "</div>"
      ],
      "text/plain": [
       "                  cc_num                        merchant     amt    first  \\\n",
       "119768    30235268718158          fraud_Macejkovic-Lesch    6.06  Kenneth   \n",
       "395460  3545109339866548              fraud_Schmeler Inc   11.68    Keith   \n",
       "256471   180084695172649  fraud_O'Reilly, Mohr and Purdy   29.92    Holly   \n",
       "382575  4926376199189801                fraud_Barton Inc  207.33   Claire   \n",
       "567693    30561214688470                 fraud_Doyle Ltd  109.20     Gina   \n",
       "...                  ...                             ...     ...      ...   \n",
       "336734  4302475216404898               fraud_Abshire PLC    7.24   Daniel   \n",
       "100415  4048508450704760               fraud_Haley Group  179.69   Cheryl   \n",
       "603801  3533012926413100              fraud_Botsford Ltd    4.79    Megan   \n",
       "598910   342952484382519              fraud_Cummings LLC   69.58    Kayla   \n",
       "514961  6526777409109795            fraud_White and Sons   67.27  Michael   \n",
       "\n",
       "            last gender state    zip      lat     long  merch_lat  merch_long  \n",
       "119768     Doyle      M    NY  10604  41.0592 -73.7395  40.077445  -74.119713  \n",
       "395460   Sanders      M    MS  38761  33.4783 -90.5142  33.233483  -89.723344  \n",
       "256471      Mann      F    IL  62075  39.3036 -89.2853  39.941428  -89.703270  \n",
       "382575     Davis      F    AR  72529  36.3011 -91.5281  36.320203  -92.043304  \n",
       "567693  Morrison      F    PA  18103  40.5891 -75.4645  40.125612  -75.507219  \n",
       "...          ...    ...   ...    ...      ...      ...        ...         ...  \n",
       "336734      Cain      M    IA  50421  42.8511 -93.6200  42.724485  -93.180677  \n",
       "100415    Melton      F    NE  68638  41.3660 -98.0054  41.084506  -97.287254  \n",
       "603801   Bernard      F    NY  13304  43.2237 -75.1612  43.132154  -74.272091  \n",
       "598910     Jones      F    CT   6024  42.0158 -73.2913  42.503521  -73.580085  \n",
       "514961    Garner      M    NY  11419  40.6868 -73.8230  40.529249  -74.672252  \n",
       "\n",
       "[778006 rows x 12 columns]"
      ]
     },
     "execution_count": 23,
     "metadata": {},
     "output_type": "execute_result"
    }
   ],
   "source": [
    "X_train "
   ]
  },
  {
   "cell_type": "code",
   "execution_count": 24,
   "metadata": {},
   "outputs": [],
   "source": [
    "# Calculate class weights for the imbalanced problem \n",
    "class_weights = compute_class_weight('balanced', classes=[0, 1], y=y_train)\n",
    "class_weight_dict = dict(zip([0, 1], class_weights))"
   ]
  },
  {
   "cell_type": "code",
   "execution_count": 25,
   "metadata": {},
   "outputs": [
    {
     "data": {
      "text/plain": [
       "{0: 0.5019503653628531, 1: 128.68111147866358}"
      ]
     },
     "execution_count": 25,
     "metadata": {},
     "output_type": "execute_result"
    }
   ],
   "source": [
    "class_weight_dict"
   ]
  },
  {
   "cell_type": "code",
   "execution_count": 26,
   "metadata": {},
   "outputs": [],
   "source": [
    "# Define categorical and numerical columns\n",
    "categorical_columns = ['cc_num', 'merchant', 'first', 'last', 'gender', 'state', 'zip']\n",
    "numerical_columns = ['amt', 'lat', 'long', 'merch_lat', 'merch_long']"
   ]
  },
  {
   "cell_type": "code",
   "execution_count": 32,
   "metadata": {},
   "outputs": [],
   "source": [
    "# Create a column transformer\n",
    "preprocessor = ColumnTransformer(\n",
    "    transformers=[\n",
    "        ('num', StandardScaler(), numerical_columns),\n",
    "        ('cat', OneHotEncoder(), categorical_columns)\n",
    "    ]\n",
    ")"
   ]
  },
  {
   "cell_type": "code",
   "execution_count": 31,
   "metadata": {},
   "outputs": [],
   "source": [
    "# Flies are used later to make the exploration about the model \n",
    "X_train.to_csv('../data/processed/X.csv')\n",
    "y_train.to_csv(\"../data/processed/y.csv\")"
   ]
  },
  {
   "cell_type": "code",
   "execution_count": 30,
   "metadata": {},
   "outputs": [],
   "source": []
  },
  {
   "cell_type": "code",
   "execution_count": 33,
   "metadata": {},
   "outputs": [
    {
     "data": {
      "text/plain": [
       "<778006x3398 sparse matrix of type '<class 'numpy.float64'>'\n",
       "\twith 9336072 stored elements in Compressed Sparse Row format>"
      ]
     },
     "execution_count": 33,
     "metadata": {},
     "output_type": "execute_result"
    }
   ],
   "source": [
    "preprocessor.fit_transform(X_train)"
   ]
  },
  {
   "cell_type": "code",
   "execution_count": 35,
   "metadata": {},
   "outputs": [],
   "source": [
    "# Save the preprocessor to a pickle file\n",
    "with open('../model/preprocessor.pkl', 'wb') as file:\n",
    "    pickle.dump(preprocessor, file)"
   ]
  },
  {
   "cell_type": "code",
   "execution_count": 36,
   "metadata": {},
   "outputs": [],
   "source": [
    "# Create the pipeline\n",
    "pipeline = Pipeline([\n",
    "    ('preprocessor', preprocessor),\n",
    "    ('classifier', RandomForestClassifier(random_state=42, class_weight=class_weight_dict))\n",
    "])"
   ]
  },
  {
   "cell_type": "code",
   "execution_count": 37,
   "metadata": {},
   "outputs": [
    {
     "data": {
      "text/html": [
       "<style>#sk-container-id-1 {color: black;}#sk-container-id-1 pre{padding: 0;}#sk-container-id-1 div.sk-toggleable {background-color: white;}#sk-container-id-1 label.sk-toggleable__label {cursor: pointer;display: block;width: 100%;margin-bottom: 0;padding: 0.3em;box-sizing: border-box;text-align: center;}#sk-container-id-1 label.sk-toggleable__label-arrow:before {content: \"▸\";float: left;margin-right: 0.25em;color: #696969;}#sk-container-id-1 label.sk-toggleable__label-arrow:hover:before {color: black;}#sk-container-id-1 div.sk-estimator:hover label.sk-toggleable__label-arrow:before {color: black;}#sk-container-id-1 div.sk-toggleable__content {max-height: 0;max-width: 0;overflow: hidden;text-align: left;background-color: #f0f8ff;}#sk-container-id-1 div.sk-toggleable__content pre {margin: 0.2em;color: black;border-radius: 0.25em;background-color: #f0f8ff;}#sk-container-id-1 input.sk-toggleable__control:checked~div.sk-toggleable__content {max-height: 200px;max-width: 100%;overflow: auto;}#sk-container-id-1 input.sk-toggleable__control:checked~label.sk-toggleable__label-arrow:before {content: \"▾\";}#sk-container-id-1 div.sk-estimator input.sk-toggleable__control:checked~label.sk-toggleable__label {background-color: #d4ebff;}#sk-container-id-1 div.sk-label input.sk-toggleable__control:checked~label.sk-toggleable__label {background-color: #d4ebff;}#sk-container-id-1 input.sk-hidden--visually {border: 0;clip: rect(1px 1px 1px 1px);clip: rect(1px, 1px, 1px, 1px);height: 1px;margin: -1px;overflow: hidden;padding: 0;position: absolute;width: 1px;}#sk-container-id-1 div.sk-estimator {font-family: monospace;background-color: #f0f8ff;border: 1px dotted black;border-radius: 0.25em;box-sizing: border-box;margin-bottom: 0.5em;}#sk-container-id-1 div.sk-estimator:hover {background-color: #d4ebff;}#sk-container-id-1 div.sk-parallel-item::after {content: \"\";width: 100%;border-bottom: 1px solid gray;flex-grow: 1;}#sk-container-id-1 div.sk-label:hover label.sk-toggleable__label {background-color: #d4ebff;}#sk-container-id-1 div.sk-serial::before {content: \"\";position: absolute;border-left: 1px solid gray;box-sizing: border-box;top: 0;bottom: 0;left: 50%;z-index: 0;}#sk-container-id-1 div.sk-serial {display: flex;flex-direction: column;align-items: center;background-color: white;padding-right: 0.2em;padding-left: 0.2em;position: relative;}#sk-container-id-1 div.sk-item {position: relative;z-index: 1;}#sk-container-id-1 div.sk-parallel {display: flex;align-items: stretch;justify-content: center;background-color: white;position: relative;}#sk-container-id-1 div.sk-item::before, #sk-container-id-1 div.sk-parallel-item::before {content: \"\";position: absolute;border-left: 1px solid gray;box-sizing: border-box;top: 0;bottom: 0;left: 50%;z-index: -1;}#sk-container-id-1 div.sk-parallel-item {display: flex;flex-direction: column;z-index: 1;position: relative;background-color: white;}#sk-container-id-1 div.sk-parallel-item:first-child::after {align-self: flex-end;width: 50%;}#sk-container-id-1 div.sk-parallel-item:last-child::after {align-self: flex-start;width: 50%;}#sk-container-id-1 div.sk-parallel-item:only-child::after {width: 0;}#sk-container-id-1 div.sk-dashed-wrapped {border: 1px dashed gray;margin: 0 0.4em 0.5em 0.4em;box-sizing: border-box;padding-bottom: 0.4em;background-color: white;}#sk-container-id-1 div.sk-label label {font-family: monospace;font-weight: bold;display: inline-block;line-height: 1.2em;}#sk-container-id-1 div.sk-label-container {text-align: center;}#sk-container-id-1 div.sk-container {/* jupyter's `normalize.less` sets `[hidden] { display: none; }` but bootstrap.min.css set `[hidden] { display: none !important; }` so we also need the `!important` here to be able to override the default hidden behavior on the sphinx rendered scikit-learn.org. See: https://github.com/scikit-learn/scikit-learn/issues/21755 */display: inline-block !important;position: relative;}#sk-container-id-1 div.sk-text-repr-fallback {display: none;}</style><div id=\"sk-container-id-1\" class=\"sk-top-container\"><div class=\"sk-text-repr-fallback\"><pre>Pipeline(steps=[(&#x27;preprocessor&#x27;,\n",
       "                 ColumnTransformer(transformers=[(&#x27;num&#x27;, StandardScaler(),\n",
       "                                                  [&#x27;amt&#x27;, &#x27;lat&#x27;, &#x27;long&#x27;,\n",
       "                                                   &#x27;merch_lat&#x27;, &#x27;merch_long&#x27;]),\n",
       "                                                 (&#x27;cat&#x27;, OneHotEncoder(),\n",
       "                                                  [&#x27;cc_num&#x27;, &#x27;merchant&#x27;,\n",
       "                                                   &#x27;first&#x27;, &#x27;last&#x27;, &#x27;gender&#x27;,\n",
       "                                                   &#x27;state&#x27;, &#x27;zip&#x27;])])),\n",
       "                (&#x27;classifier&#x27;,\n",
       "                 RandomForestClassifier(class_weight={0: 0.5019503653628531,\n",
       "                                                      1: 128.68111147866358},\n",
       "                                        random_state=42))])</pre><b>In a Jupyter environment, please rerun this cell to show the HTML representation or trust the notebook. <br />On GitHub, the HTML representation is unable to render, please try loading this page with nbviewer.org.</b></div><div class=\"sk-container\" hidden><div class=\"sk-item sk-dashed-wrapped\"><div class=\"sk-label-container\"><div class=\"sk-label sk-toggleable\"><input class=\"sk-toggleable__control sk-hidden--visually\" id=\"sk-estimator-id-1\" type=\"checkbox\" ><label for=\"sk-estimator-id-1\" class=\"sk-toggleable__label sk-toggleable__label-arrow\">Pipeline</label><div class=\"sk-toggleable__content\"><pre>Pipeline(steps=[(&#x27;preprocessor&#x27;,\n",
       "                 ColumnTransformer(transformers=[(&#x27;num&#x27;, StandardScaler(),\n",
       "                                                  [&#x27;amt&#x27;, &#x27;lat&#x27;, &#x27;long&#x27;,\n",
       "                                                   &#x27;merch_lat&#x27;, &#x27;merch_long&#x27;]),\n",
       "                                                 (&#x27;cat&#x27;, OneHotEncoder(),\n",
       "                                                  [&#x27;cc_num&#x27;, &#x27;merchant&#x27;,\n",
       "                                                   &#x27;first&#x27;, &#x27;last&#x27;, &#x27;gender&#x27;,\n",
       "                                                   &#x27;state&#x27;, &#x27;zip&#x27;])])),\n",
       "                (&#x27;classifier&#x27;,\n",
       "                 RandomForestClassifier(class_weight={0: 0.5019503653628531,\n",
       "                                                      1: 128.68111147866358},\n",
       "                                        random_state=42))])</pre></div></div></div><div class=\"sk-serial\"><div class=\"sk-item sk-dashed-wrapped\"><div class=\"sk-label-container\"><div class=\"sk-label sk-toggleable\"><input class=\"sk-toggleable__control sk-hidden--visually\" id=\"sk-estimator-id-2\" type=\"checkbox\" ><label for=\"sk-estimator-id-2\" class=\"sk-toggleable__label sk-toggleable__label-arrow\">preprocessor: ColumnTransformer</label><div class=\"sk-toggleable__content\"><pre>ColumnTransformer(transformers=[(&#x27;num&#x27;, StandardScaler(),\n",
       "                                 [&#x27;amt&#x27;, &#x27;lat&#x27;, &#x27;long&#x27;, &#x27;merch_lat&#x27;,\n",
       "                                  &#x27;merch_long&#x27;]),\n",
       "                                (&#x27;cat&#x27;, OneHotEncoder(),\n",
       "                                 [&#x27;cc_num&#x27;, &#x27;merchant&#x27;, &#x27;first&#x27;, &#x27;last&#x27;,\n",
       "                                  &#x27;gender&#x27;, &#x27;state&#x27;, &#x27;zip&#x27;])])</pre></div></div></div><div class=\"sk-parallel\"><div class=\"sk-parallel-item\"><div class=\"sk-item\"><div class=\"sk-label-container\"><div class=\"sk-label sk-toggleable\"><input class=\"sk-toggleable__control sk-hidden--visually\" id=\"sk-estimator-id-3\" type=\"checkbox\" ><label for=\"sk-estimator-id-3\" class=\"sk-toggleable__label sk-toggleable__label-arrow\">num</label><div class=\"sk-toggleable__content\"><pre>[&#x27;amt&#x27;, &#x27;lat&#x27;, &#x27;long&#x27;, &#x27;merch_lat&#x27;, &#x27;merch_long&#x27;]</pre></div></div></div><div class=\"sk-serial\"><div class=\"sk-item\"><div class=\"sk-estimator sk-toggleable\"><input class=\"sk-toggleable__control sk-hidden--visually\" id=\"sk-estimator-id-4\" type=\"checkbox\" ><label for=\"sk-estimator-id-4\" class=\"sk-toggleable__label sk-toggleable__label-arrow\">StandardScaler</label><div class=\"sk-toggleable__content\"><pre>StandardScaler()</pre></div></div></div></div></div></div><div class=\"sk-parallel-item\"><div class=\"sk-item\"><div class=\"sk-label-container\"><div class=\"sk-label sk-toggleable\"><input class=\"sk-toggleable__control sk-hidden--visually\" id=\"sk-estimator-id-5\" type=\"checkbox\" ><label for=\"sk-estimator-id-5\" class=\"sk-toggleable__label sk-toggleable__label-arrow\">cat</label><div class=\"sk-toggleable__content\"><pre>[&#x27;cc_num&#x27;, &#x27;merchant&#x27;, &#x27;first&#x27;, &#x27;last&#x27;, &#x27;gender&#x27;, &#x27;state&#x27;, &#x27;zip&#x27;]</pre></div></div></div><div class=\"sk-serial\"><div class=\"sk-item\"><div class=\"sk-estimator sk-toggleable\"><input class=\"sk-toggleable__control sk-hidden--visually\" id=\"sk-estimator-id-6\" type=\"checkbox\" ><label for=\"sk-estimator-id-6\" class=\"sk-toggleable__label sk-toggleable__label-arrow\">OneHotEncoder</label><div class=\"sk-toggleable__content\"><pre>OneHotEncoder()</pre></div></div></div></div></div></div></div></div><div class=\"sk-item\"><div class=\"sk-estimator sk-toggleable\"><input class=\"sk-toggleable__control sk-hidden--visually\" id=\"sk-estimator-id-7\" type=\"checkbox\" ><label for=\"sk-estimator-id-7\" class=\"sk-toggleable__label sk-toggleable__label-arrow\">RandomForestClassifier</label><div class=\"sk-toggleable__content\"><pre>RandomForestClassifier(class_weight={0: 0.5019503653628531,\n",
       "                                     1: 128.68111147866358},\n",
       "                       random_state=42)</pre></div></div></div></div></div></div></div>"
      ],
      "text/plain": [
       "Pipeline(steps=[('preprocessor',\n",
       "                 ColumnTransformer(transformers=[('num', StandardScaler(),\n",
       "                                                  ['amt', 'lat', 'long',\n",
       "                                                   'merch_lat', 'merch_long']),\n",
       "                                                 ('cat', OneHotEncoder(),\n",
       "                                                  ['cc_num', 'merchant',\n",
       "                                                   'first', 'last', 'gender',\n",
       "                                                   'state', 'zip'])])),\n",
       "                ('classifier',\n",
       "                 RandomForestClassifier(class_weight={0: 0.5019503653628531,\n",
       "                                                      1: 128.68111147866358},\n",
       "                                        random_state=42))])"
      ]
     },
     "execution_count": 37,
     "metadata": {},
     "output_type": "execute_result"
    }
   ],
   "source": [
    "# Fit the classifier on the training data\n",
    "pipeline.fit(X_train, y_train)"
   ]
  },
  {
   "cell_type": "code",
   "execution_count": 38,
   "metadata": {},
   "outputs": [],
   "source": [
    "def custom_confusion_matrix(y_true, y_pred, num_classes):\n",
    "    \"\"\"\n",
    "    Calculate the confusion matrix.\n",
    "\n",
    "    Parameters:\n",
    "    - y_true: True class labels\n",
    "    - y_pred: Predicted class labels\n",
    "    - num_classes: Number of classes\n",
    "\n",
    "    Returns:\n",
    "    - Confusion matrix as a 2D numpy array\n",
    "    \"\"\"\n",
    "    confusion_matrix = [[0] * num_classes for _ in range(num_classes)]\n",
    "\n",
    "    for true_label, pred_label in zip(y_true, y_pred):\n",
    "        confusion_matrix[true_label][pred_label] += 1\n",
    "\n",
    "    return confusion_matrix"
   ]
  },
  {
   "cell_type": "code",
   "execution_count": 39,
   "metadata": {},
   "outputs": [],
   "source": [
    "y_pred = pipeline.predict(X_test)\n"
   ]
  },
  {
   "cell_type": "code",
   "execution_count": 40,
   "metadata": {},
   "outputs": [
    {
     "name": "stdout",
     "output_type": "stream",
     "text": [
      "              precision    recall  f1-score   support\n",
      "\n",
      "           0       1.00      1.00      1.00    332165\n",
      "           1       0.96      0.87      0.91      1267\n",
      "\n",
      "    accuracy                           1.00    333432\n",
      "   macro avg       0.98      0.93      0.96    333432\n",
      "weighted avg       1.00      1.00      1.00    333432\n",
      "\n"
     ]
    }
   ],
   "source": [
    "report_cls = classification_report(y_test, y_pred)\n",
    "print(report_cls)"
   ]
  },
  {
   "cell_type": "code",
   "execution_count": 41,
   "metadata": {},
   "outputs": [],
   "source": [
    "cm = custom_confusion_matrix(y_test, y_pred, 2)"
   ]
  },
  {
   "cell_type": "code",
   "execution_count": 42,
   "metadata": {},
   "outputs": [
    {
     "data": {
      "image/png": "[encoded data removed]",
      "text/plain": [
       "<Figure size 800x600 with 2 Axes>"
      ]
     },
     "metadata": {},
     "output_type": "display_data"
    }
   ],
   "source": [
    "# Convert to a numpy array for Seaborn heatmap\n",
    "cm_np = np.array(cm)\n",
    "\n",
    "# Plot the confusion matrix using Seaborn\n",
    "plt.figure(figsize=(8, 6))\n",
    "sns.heatmap(cm_np, annot=True, fmt='d', cmap='Blues', annot_kws={\"size\": 16})\n",
    "plt.xlabel('Predicted')\n",
    "plt.ylabel('True')\n",
    "plt.title('Confusion Matrix')\n",
    "plt.show()"
   ]
  },
  {
   "cell_type": "code",
   "execution_count": 44,
   "metadata": {},
   "outputs": [],
   "source": [
    "# Function to save the preprocessing pipeline\n",
    "def save_pipeline(pipeline, pipeline_path=\"../model/model_pipeline.pkl\"):\n",
    "    with open(pipeline_path, \"wb\") as file:\n",
    "        pickle.dump(pipeline, file)"
   ]
  },
  {
   "cell_type": "code",
   "execution_count": 45,
   "metadata": {},
   "outputs": [],
   "source": [
    "save_pipeline(pipeline)"
   ]
  },
  {
   "cell_type": "code",
   "execution_count": null,
   "metadata": {},
   "outputs": [],
   "source": []
  }
 ],
 "metadata": {
  "kernelspec": {
   "display_name": "cfdp",
   "language": "python",
   "name": "python3"
  },
  "language_info": {
   "codemirror_mode": {
    "name": "ipython",
    "version": 3
   },
   "file_extension": ".py",
   "mimetype": "text/x-python",
   "name": "python",
   "nbconvert_exporter": "python",
   "pygments_lexer": "ipython3",
   "version": "3.9.18"
  }
 },
 "nbformat": 4,
 "nbformat_minor": 2
}
